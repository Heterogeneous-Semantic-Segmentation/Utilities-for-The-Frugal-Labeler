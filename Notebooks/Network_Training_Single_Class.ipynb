{
 "cells": [
  {
   "cell_type": "code",
   "execution_count": 1,
   "metadata": {},
   "outputs": [],
   "source": [
    "TYPE = 'bulbus'\n",
    "# TYPE = 'atrium'\n",
    "# TYPE = 'heart'"
   ]
  },
  {
   "cell_type": "code",
   "execution_count": 2,
   "metadata": {},
   "outputs": [
    {
     "name": "stdout",
     "output_type": "stream",
     "text": [
      "env: SM_FRAMEWORK=tf.keras\n",
      "Segmentation Models: using `tf.keras` framework.\n"
     ]
    }
   ],
   "source": [
    "from __future__ import print_function\n",
    "from tensorflow.keras.preprocessing.image import ImageDataGenerator\n",
    "import numpy as np\n",
    "import os \n",
    "import glob\n",
    "import skimage.io as io\n",
    "%env SM_FRAMEWORK=tf.keras\n",
    "import segmentation_models as sm\n",
    "import skimage.transform as trans\n",
    "from tensorflow.keras.models import *\n",
    "from tensorflow.keras.layers import *\n",
    "from tensorflow.keras.optimizers import *\n",
    "from tensorflow.keras.callbacks import ModelCheckpoint, LearningRateScheduler\n",
    "from tensorflow.keras.models import *\n",
    "from tensorflow.keras.layers import *\n",
    "from tensorflow.keras.optimizers import *\n",
    "from tensorflow.keras import backend as K\n",
    "from pymodules.unet_model import unet,dice_coef\n",
    "from pymodules.data import trainGenerator,testGenerator,labelVisualize\n",
    "from tensorflow.keras.callbacks import  EarlyStopping, ReduceLROnPlateau \n",
    "import matplotlib.pyplot as plt"
   ]
  },
  {
   "cell_type": "code",
   "execution_count": 3,
   "metadata": {},
   "outputs": [],
   "source": [
    "import numpy as np\n",
    "import cv2\n",
    "import os\n",
    "from PIL import Image\n",
    "\n",
    "X_test = []\n",
    "for filepath in os.listdir('../data/test_images/ventral_samples_R0004'):\n",
    "    image = Image.open('../data/test_images/ventral_samples_R0004/'+filepath)\n",
    "    image = image.resize((256, 256))\n",
    "    # convert image to numpy array\n",
    "    data = np.asarray(image)\n",
    "    data = data/255.\n",
    "    X_test.append(data)\n",
    "X_test = np.array(X_test)\n",
    "Y_test = []\n",
    "for filepath in os.listdir('../data/test_images/ventral_mask_%s_R0004'%TYPE):\n",
    "    image = Image.open('../data/test_images/ventral_mask_%s_R0004/'%TYPE+filepath).convert('L')\n",
    "    image = image.resize((256, 256))\n",
    "    data = np.asarray(image).reshape(256,256,1)\n",
    "    data = data/255.\n",
    "    Y_test.append(data)\n",
    "Y_test = np.array(Y_test)"
   ]
  },
  {
   "cell_type": "code",
   "execution_count": 4,
   "metadata": {},
   "outputs": [],
   "source": [
    "from keras.preprocessing.image import ImageDataGenerator\n",
    "\n",
    "batch_size = 10\n",
    "epochs = 400\n",
    "iterations_per_epoch = 300\n",
    "\n",
    "data_gen_args = dict(rotation_range=0.3,\n",
    "                    width_shift_range=0.05,\n",
    "                    height_shift_range=0.05,\n",
    "                    shear_range=0.05,\n",
    "                    zoom_range=0.1,\n",
    "                    horizontal_flip=True,\n",
    "                    fill_mode='nearest')\n",
    "\n",
    "train_generator = trainGenerator(batch_size,'../data/train_images','ventral_samples','ventral_mask_%s'%TYPE,data_gen_args,image_color_mode='rgb',mask_color_mode = \"grayscale\")\n",
    "val_datagen = ImageDataGenerator()"
   ]
  },
  {
   "cell_type": "code",
   "execution_count": 5,
   "metadata": {},
   "outputs": [],
   "source": [
    "model = unet(input_size = (256,256,3))"
   ]
  },
  {
   "cell_type": "code",
   "execution_count": null,
   "metadata": {},
   "outputs": [
    {
     "name": "stdout",
     "output_type": "stream",
     "text": [
      "WARNING:tensorflow:`epsilon` argument is deprecated and will be removed, use `min_delta` instead.\n",
      "WARNING:tensorflow:From <ipython-input-6-fbcb2809355c>:4: Model.fit_generator (from tensorflow.python.keras.engine.training) is deprecated and will be removed in a future version.\n",
      "Instructions for updating:\n",
      "Please use Model.fit, which supports generators.\n",
      "Found 565 images belonging to 1 classes.\n",
      "Found 565 images belonging to 1 classes.\n",
      "Epoch 1/400\n",
      "  2/300 [..............................] - ETA: 1:07 - loss: 0.9800 - dice_coef: 0.0201 - accuracy: 0.9811WARNING:tensorflow:Callbacks method `on_train_batch_end` is slow compared to the batch time (batch time: 0.1376s vs `on_train_batch_end` time: 0.3144s). Check your callbacks.\n",
      "300/300 [==============================] - ETA: 0s - loss: 0.9999 - dice_coef: 2.2331e-04 - accuracy: 0.9825\n",
      "Epoch 00001: val_loss improved from inf to 1.00000, saving model to ventral.hdf5\n",
      "300/300 [==============================] - 140s 466ms/step - loss: 0.9999 - dice_coef: 2.2331e-04 - accuracy: 0.9825 - val_loss: 1.0000 - val_dice_coef: 0.0014 - val_accuracy: 0.9838\n",
      "Epoch 2/400\n",
      "300/300 [==============================] - ETA: 0s - loss: 1.0000 - dice_coef: 8.9673e-05 - accuracy: 0.9825\n",
      "Epoch 00002: val_loss did not improve from 1.00000\n",
      "300/300 [==============================] - 139s 464ms/step - loss: 1.0000 - dice_coef: 8.9673e-05 - accuracy: 0.9825 - val_loss: 1.0000 - val_dice_coef: 0.0013 - val_accuracy: 0.9838\n",
      "Epoch 3/400\n",
      "133/300 [============>.................] - ETA: 1:16 - loss: 1.0000 - dice_coef: 8.9466e-05 - accuracy: 0.9825"
     ]
    }
   ],
   "source": [
    "model_checkpoint = ModelCheckpoint('ventral.hdf5', monitor='val_loss', verbose=1, save_best_only=True)\n",
    "early_stopping = EarlyStopping(monitor=\"val_loss\",verbose = 1,mode='min',patience=70)\n",
    "reduce_lr =  ReduceLROnPlateau(monitor = \"val_loss\", factor = 0.5, patience = 10,verbose = 0, mode = \"auto\", epsilon = 1e-04, cooldown = 0,min_lr = 1e-5)\n",
    "model.fit_generator(train_generator,steps_per_epoch=iterations_per_epoch,epochs=epochs,callbacks=[model_checkpoint,early_stopping,reduce_lr],validation_data=val_datagen.flow(X_test, Y_test, batch_size=batch_size))"
   ]
  }
 ],
 "metadata": {
  "kernelspec": {
   "display_name": "Python 3",
   "language": "python",
   "name": "python3"
  },
  "language_info": {
   "codemirror_mode": {
    "name": "ipython",
    "version": 3
   },
   "file_extension": ".py",
   "mimetype": "text/x-python",
   "name": "python",
   "nbconvert_exporter": "python",
   "pygments_lexer": "ipython3",
   "version": "3.7.6"
  }
 },
 "nbformat": 4,
 "nbformat_minor": 2
}
